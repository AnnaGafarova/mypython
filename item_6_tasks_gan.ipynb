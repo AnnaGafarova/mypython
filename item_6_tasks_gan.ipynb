{
 "cells": [
  {
   "cell_type": "code",
   "execution_count": 3,
   "id": "24b3029b-4019-43ba-b1f8-e9ae5a352e01",
   "metadata": {},
   "outputs": [
    {
     "name": "stdout",
     "output_type": "stream",
     "text": [
      "Таблица DataFrame:\n",
      "     Цена     Товар  В наличии\n",
      "0   99.9   Пряники      False\n",
      "1  149.5   Шоколад       True\n",
      "2  199.0  Мармелад       True\n",
      "\n",
      "Типы столбцов DataFrame:\n",
      " Цена         float64\n",
      "Товар         object\n",
      "В наличии       bool\n",
      "dtype: object\n",
      "Тип столбца 'Цена': float64 ,'Товар' object  'В наличии' bool\n"
     ]
    }
   ],
   "source": [
    "# Сделайте DataFrame с колонками:\n",
    "#   \"Цена\" — значения [99.9, 149.5, 199.0],\n",
    "#   \"Товар\" — строки с названиями,\n",
    "#   \"В наличии\" — логические значения.\n",
    "# Выведите сам DataFrame и тип данных каждой колонки.\n",
    "\n",
    "\n",
    "# используйте pd.DataFrame, df.dtypes, df['col'].dtype\n",
    "import pandas as pd\n",
    "\n",
    "data = {\n",
    "\"Цена\" : [99.9, 149.5, 199.0],\n",
    "\"Товар\" : [\"Пряники\", \"Шоколад\", \"Мармелад\"], \n",
    "\"В наличии\" : [False, True, True]    \n",
    "}    \n",
    "df = pd.DataFrame(data)\n",
    "print(\"Таблица DataFrame:\\n\", df)\n",
    "print(\"\\nТипы столбцов DataFrame:\\n\", df.dtypes)\n",
    "print(f\"Тип столбца 'Цена': {df['Цена'].dtype} ,'Товар' {df['Товар'].dtype}  'В наличии' {df['В наличии'].dtype}\")\n",
    "\n",
    "\n",
    "\n"
   ]
  },
  {
   "cell_type": "code",
   "execution_count": 5,
   "id": "1306ef97-0e0b-473a-9cc5-7b998d10504f",
   "metadata": {},
   "outputs": [
    {
     "name": "stdout",
     "output_type": "stream",
     "text": [
      "Объект Series \"Температура\"\n",
      " 0    18\n",
      "1    20\n",
      "2    21\n",
      "3    19\n",
      "Name: Температура, dtype: int64\n",
      "Характеристики Объекта Series \"Температура\" индекс:  RangeIndex(start=0, stop=4, step=1), значения:  [18 20 21 19], тип данных:  int64, длина:  4\n"
     ]
    }
   ],
   "source": [
    "# Сделайте объект Series с данными температур [18, 20, 21, 19],\n",
    "# дайте ему имя \"Температура\".\n",
    "# Выведите Series, его индекс, значения, длину и тип данных.\n",
    "s_temp = pd.Series([18, 20, 21, 19],name = \"Температура\")\n",
    "print('Объект Series \"Температура\"\\n',s_temp)\n",
    "print(f'Характеристики Объекта Series \"Температура\" индекс:  {s_temp.index}, значения:  {s_temp.values}, тип данных:  {s_temp.dtype}, длина:  {len(s_temp)}')\n",
    "\n",
    "# используйте pd.Series, свойства .index, .values, .dtype, а также len()\n",
    "\n",
    "\n"
   ]
  },
  {
   "cell_type": "code",
   "execution_count": 9,
   "id": "1cfeefc6-1c27-4894-8f8c-166175380d13",
   "metadata": {},
   "outputs": [
    {
     "name": "stdout",
     "output_type": "stream",
     "text": [
      "Таблица City исходная:\n",
      "        City\n",
      "0    moscow\n",
      "1     SPb  \n",
      "2    kaZAN \n",
      "Таблица City очищенная:\n",
      "      City\n",
      "0  Moscow\n",
      "1     Spb\n",
      "2   Kazan\n"
     ]
    }
   ],
   "source": [
    "# Сделайте DataFrame с колонкой \"City\" со строками [\"  moscow\", \"SPb  \", \"kaZAN \"].\n",
    "# Очистите данные: уберите пробелы по краям и приведите строки к виду \"С Заглавной буквы\".\n",
    "# Выведите исходный и очищенный столбец.\n",
    "\n",
    "\n",
    "# используйте строковые методы .str.strip() и .str.title()\n",
    "df = pd.DataFrame({\"City\" : [\"  moscow\", \"SPb  \", \"kaZAN \"]})\n",
    "print(\"Таблица исходная:\\n\", df)\n",
    "df['City'] = df['City'].str.strip()\n",
    "df['City'] = df['City'].str.title()\n",
    "\n",
    "print(\"Таблица очищенная:\\n\", df)\n"
   ]
  },
  {
   "cell_type": "code",
   "execution_count": 11,
   "id": "6c180cb8-70d8-4374-99aa-9e7a115d8c37",
   "metadata": {},
   "outputs": [
    {
     "name": "stdout",
     "output_type": "stream",
     "text": [
      "Таблица Score :\n",
      "    Score\n",
      "0     85\n",
      "1     90\n",
      "2     95\n",
      "Таблица Score в строковом виде:\n",
      "       Score\n",
      "0  score_85\n",
      "1  score_90\n",
      "2  score_95\n",
      "Таблица Score обратно преобразованная в строковом виде:\n",
      "    Score\n",
      "0     85\n",
      "1     90\n",
      "2     95\n"
     ]
    }
   ],
   "source": [
    "# Сделайте DataFrame с колонкой \"Score\" со значениями [85, 90, 95].\n",
    "# 1) Преобразуйте значения в строки вида \"score_85\", \"score_90\", ...\n",
    "# 2) Из полученных строк извлеките обратно числа и приведите их к int в отдельной колонке.\n",
    "\n",
    "\n",
    "# используйте .astype(str) + конкатенацию, \n",
    "#            для извлечения — .str.extract(r'(\\d+)') или .str.replace() + .astype(int)\n",
    "df = pd.DataFrame({\"Score\" : [85,90,95]})\n",
    "print(\"Таблица Score :\\n\", df)\n",
    "df['Score'] = 'score_'+df['Score'].astype(str)\n",
    "print(\"Таблица Score в строковом виде:\\n\", df)\n",
    "df['Score'] = df['Score'].str.extract(r'(\\d+)').astype(int)\n",
    "print(\"Таблица Score обратно преобразованная в строковом виде:\\n\", df)\n",
    "\n"
   ]
  }
 ],
 "metadata": {
  "kernelspec": {
   "display_name": "Python 3 (ipykernel)",
   "language": "python",
   "name": "python3"
  },
  "language_info": {
   "codemirror_mode": {
    "name": "ipython",
    "version": 3
   },
   "file_extension": ".py",
   "mimetype": "text/x-python",
   "name": "python",
   "nbconvert_exporter": "python",
   "pygments_lexer": "ipython3",
   "version": "3.8.0"
  }
 },
 "nbformat": 4,
 "nbformat_minor": 5
}
