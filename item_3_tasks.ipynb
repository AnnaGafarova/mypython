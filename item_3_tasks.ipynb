{
 "cells": [
  {
   "cell_type": "code",
   "execution_count": 6,
   "id": "c572e70c-9123-4979-a307-ac5c17a222ae",
   "metadata": {},
   "outputs": [
    {
     "name": "stdout",
     "output_type": "stream",
     "text": [
      "[[1 2 3]\n",
      " [4 5 6]]\n",
      "[[10 20]\n",
      " [40 50]\n",
      " [70 80]]\n",
      "[[300 360]\n",
      " [660 810]]\n"
     ]
    }
   ],
   "source": [
    "# (Матричное умножение) перемножьте матрицы A (2×3) и B (3×2) и выведите матрицу C и её форму.\n",
    "# используйте матричное умножение A @ B (или np.dot(A, B)); проверьте C.shape.\n",
    "import numpy as np\n",
    "A = np.array(\n",
    "    [[1,2,3],\n",
    "    [4,5,6]\n",
    "    ]\n",
    ")\n",
    "print(A)\n",
    "B = np.array(\n",
    "    [[10,20],\n",
    "    [40,50],\n",
    "    [70,80]]\n",
    ")\n",
    "print(B)\n",
    "C = np.dot(A,B)\n",
    "print(C)"
   ]
  },
  {
   "cell_type": "code",
   "execution_count": null,
   "id": "b54f21cb-34b8-47dc-8611-a1bea0d5aae9",
   "metadata": {},
   "outputs": [],
   "source": [
    "# транспонируйте матрицу M (2×3) и выведите T и T.shape.\n",
    "# используйте свойство .T; у (m, n) транспонирование даёт (n, m).\n",
    "M = np.array(\n",
    "    [[1,2,3],\n",
    "    [4,5,6]\n",
    "    ])\n",
    "T = M.T\n",
    "print(T)"
   ]
  },
  {
   "cell_type": "code",
   "execution_count": 7,
   "id": "bfcbab8d-d4fd-4d19-8cbf-d1000c98a467",
   "metadata": {},
   "outputs": [
    {
     "name": "stdout",
     "output_type": "stream",
     "text": [
      "[[ 1  4  9]\n",
      " [16 25 36]]\n"
     ]
    }
   ],
   "source": [
    "# выполните поэлементное умножение A и B одинаковой формы (2×3); выведите результат и форму.\n",
    "# оператор * в NumPy выполняет поэлементное умножение (не матричное).\n",
    "A = np.array(\n",
    "    [[1,2,3],\n",
    "    [4,5,6]\n",
    "    ])\n",
    "B = np.array(\n",
    "    [[1,2,3],\n",
    "    [4,5,6]\n",
    "    ])\n",
    "C = A*B\n",
    "print(C)"
   ]
  },
  {
   "cell_type": "code",
   "execution_count": 17,
   "id": "0a09a2de-0666-4c69-aadc-4a1fc23e418b",
   "metadata": {},
   "outputs": [
    {
     "name": "stdout",
     "output_type": "stream",
     "text": [
      "[-3 -2 -1  0  1  2  3  4  5  6  7  8]\n",
      "[False False False False  True  True  True  True  True  True  True  True]\n",
      "[1 2 3 4 5 6 7 8]\n"
     ]
    }
   ],
   "source": [
    "# из вектора x выберите только положительные элементы; выведите отобранный массив и его форму.\n",
    "# постройте булеву маску (x > 0) и примените её как индекс: x[mask].\n",
    "x = np.arange(-3,9)\n",
    "print(x)\n",
    "mask = x > 0\n",
    "print(mask)\n",
    "y = x[mask]\n",
    "print(y)"
   ]
  },
  {
   "cell_type": "code",
   "execution_count": 19,
   "id": "d3c54dfb-701c-4d7d-bcc6-469adc44db2a",
   "metadata": {},
   "outputs": [
    {
     "name": "stdout",
     "output_type": "stream",
     "text": [
      "[-3 -2 -1  0  1  2  3  4  5  6  7  8]\n",
      "[2 4 6 8]\n"
     ]
    }
   ],
   "source": [
    "# выберите из массива x только положительные чётные числа; выведите результат и его форму.\n",
    "# комбинируйте условия скобками: (x > 0) & (x % 2 == 0).\n",
    "x = np.arange(-3,9)\n",
    "print(x)\n",
    "mask = (x > 0) & (x % 2 == 0)\n",
    "y = x[mask]\n",
    "print(y)"
   ]
  },
  {
   "cell_type": "code",
   "execution_count": 20,
   "id": "319323da-2c6f-4d66-b8f9-72565cc28268",
   "metadata": {},
   "outputs": [
    {
     "name": "stdout",
     "output_type": "stream",
     "text": [
      "[-3 -2 -1  0  1  2  3  4  5  6  7  8]\n",
      "[-3 -2 -1  0  0  0  0  0  0  0  0  0]\n"
     ]
    }
   ],
   "source": [
    "# в матрице M замените все отрицательные значения на 0 (прямое изменение исходного массива); выведите M до и после.\n",
    "# маска (M < 0) и присваивание по маске: M[mask] = 0.\n",
    "M = np.arange(-3,9)\n",
    "print(M)\n",
    "mask = (M > 0)\n",
    "M[mask] = 0\n",
    "print(M)"
   ]
  },
  {
   "cell_type": "code",
   "execution_count": 21,
   "id": "96728f40-51af-4669-b4a5-d963ddf74a02",
   "metadata": {},
   "outputs": [
    {
     "name": "stdout",
     "output_type": "stream",
     "text": [
      "[-1 -1  0  2  4  6]\n"
     ]
    }
   ],
   "source": [
    "# примените векторное ветвление к x: если элемент >= 0, заменить на квадрат; иначе — на -1.\n",
    "# используйте np.where(cond, a, b), где cond = (x >= 0), a = x**2, b = -1.\n",
    "x = np.array([-3, -1, 0, 1, 2, 3])\n",
    "y = np.where(x < 0, -1, x*2)\n",
    "print(y)"
   ]
  },
  {
   "cell_type": "code",
   "execution_count": 24,
   "id": "221f4aff-0832-4745-bdfa-173a89241c0c",
   "metadata": {},
   "outputs": [
    {
     "name": "stdout",
     "output_type": "stream",
     "text": [
      "[[ 1  2  3  4]\n",
      " [ 5  6  7  8]\n",
      " [ 9 10 11 12]]\n",
      "78\n"
     ]
    }
   ],
   "source": [
    "# для матрицы M (3×4) вычислите: (1) сумму всех элементов; (2) суммы по строкам (axis=1); (3) суммы по столбцам (axis=0).\n",
    "# метод .sum(...); проверьте формы результатов для axis=1 → (3,), axis=0 → (4,).\n",
    "M = np.array([\n",
    "[1,2,3,4],\n",
    "[5,6,7,8],\n",
    "[9,10,11,12]\n",
    "])\n",
    "print(M)\n",
    "t_sum = M.sum()\n",
    "print(t_sum)"
   ]
  },
  {
   "cell_type": "code",
   "execution_count": 26,
   "id": "454f9b4e-f242-467f-b785-05022a2b2a3e",
   "metadata": {},
   "outputs": [
    {
     "name": "stdout",
     "output_type": "stream",
     "text": [
      "6.5\n",
      "[ 2.5  6.5 10.5]\n",
      "[5. 6. 7. 8.]\n"
     ]
    }
   ],
   "source": [
    "# для матрицы M (3×4) вычислите: (1) среднее по всем элементам; (2) средние по строкам; (3) средние по столбцам.\n",
    "# метод .mean(...); помните: axis=1 → вдоль строк (форма (3,)), axis=0 → вдоль столбцов (форма (4,)).\n",
    "\n",
    "M = np.array([\n",
    "[1,2,3,4],\n",
    "[5,6,7,8],\n",
    "[9,10,11,12]\n",
    "])\n",
    "t_mean = M.mean()\n",
    "print(t_mean)\n",
    "row_mean = M.mean(axis=1) \n",
    "print(row_mean)\n",
    "col_mean = M.mean(axis=0) \n",
    "print(col_mean)\n"
   ]
  },
  {
   "cell_type": "code",
   "execution_count": 27,
   "id": "25931f88-45c0-4445-8504-bdbd5ae39919",
   "metadata": {},
   "outputs": [
    {
     "name": "stdout",
     "output_type": "stream",
     "text": [
      "[0.86188235 0.03434452 0.2368689  0.17720089 0.46594298 0.39234969\n",
      " 0.71888962 0.1632744  0.05007489 0.73153848]\n"
     ]
    }
   ],
   "source": [
    "A = np.random.rand(10)\n",
    "print(A)"
   ]
  },
  {
   "cell_type": "code",
   "execution_count": 29,
   "id": "90ae02dc-2807-4f6e-8b5d-fba9c6493791",
   "metadata": {},
   "outputs": [
    {
     "name": "stdout",
     "output_type": "stream",
     "text": [
      "[1 2 3 4 5]\n"
     ]
    }
   ],
   "source": [
    "a = np.array([1,2,3,4,5])\n",
    "print(a)"
   ]
  },
  {
   "cell_type": "code",
   "execution_count": 31,
   "id": "848e0f56-2534-4297-bcda-cb34e743bddc",
   "metadata": {},
   "outputs": [],
   "source": [
    "# очень быстрое суммирование\n",
    "sum_res= np.add.reduce(a)"
   ]
  },
  {
   "cell_type": "code",
   "execution_count": 46,
   "id": "bc2bb151-2932-46b1-ae43-d9e79d97881d",
   "metadata": {},
   "outputs": [
    {
     "name": "stdout",
     "output_type": "stream",
     "text": [
      "[0.19905282 0.77330003 0.99107628 0.0522872  0.51296267 0.24208422\n",
      " 0.21094281 0.48814173 0.71639472 0.46627753]\n",
      "0.05228719982884189\n",
      "[0.0522872  0.19905282 0.21094281 0.24208422 0.46627753 0.48814173\n",
      " 0.51296267 0.71639472 0.77330003 0.        ]\n"
     ]
    }
   ],
   "source": [
    "# максимальный элемент равно нулю\n",
    "a = np.random.rand(10)\n",
    "print(a)\n",
    "b = []\n",
    "b = a.sort()\n",
    "print(a[0])\n",
    "a[9] = 0\n",
    "print(a)"
   ]
  },
  {
   "cell_type": "code",
   "execution_count": 14,
   "id": "ac3dc029-5b21-475a-b70b-236d158515e1",
   "metadata": {},
   "outputs": [
    {
     "name": "stdout",
     "output_type": "stream",
     "text": [
      "[[0.14659796 0.6098615  0.39902034]\n",
      " [0.49520533 0.58947351 0.25734913]\n",
      " [0.94896609 0.63866597 0.03972678]\n",
      " [0.36425704 0.78605562 0.60577098]\n",
      " [0.26711528 0.65637282 0.89282145]]\n",
      "[0.38515993 0.44734266 0.54245295 0.58536121 0.60543652]\n",
      "[[-0.23856197  0.22470157  0.01386041]\n",
      " [ 0.04786267  0.14213086 -0.18999353]\n",
      " [ 0.40651315  0.09621302 -0.50272617]\n",
      " [-0.22110418  0.2006944   0.02040977]\n",
      " [-0.33832124  0.0509363   0.28738493]]\n",
      "[[1. 0. 3. 0. 5.]\n",
      " [1. 0. 3. 0. 5.]\n",
      " [1. 0. 3. 0. 5.]]\n"
     ]
    }
   ],
   "source": [
    "# непонятно что\n",
    "# arr = np.genfromtxt(input_string.split(\"\\n\"),\n",
    "# delimiter=',',\n",
    "# dtype = float,\n",
    "# missing_values='',\n",
    "# filling_values=np.nan)\n",
    "\n",
    "# центрированная матрица\n",
    "import numpy as np\n",
    "a = np.random.rand(5,3)\n",
    "print(a)\n",
    "row_mean = a.mean(axis=1) \n",
    "print(row_mean)    \n",
    "# a_centered = np.subtract(A.T, A_mean).T\n",
    "a_centered = np.subtract(a.T, row_mean).T\n",
    "print(a_centered)\n",
    "\n",
    "# 0 2 4 элементы Дополнить нулями \n",
    "X = np.array([1,2,3,4,5])\n",
    "F = np.zeros([3,5])\n",
    "I = [0,2,4]\n",
    "F[:,I] = X[I]\n",
    "print(F)\n",
    "\n",
    "\n"
   ]
  },
  {
   "cell_type": "code",
   "execution_count": 6,
   "id": "beb258f0-8fe6-425f-a969-c89646f87b9a",
   "metadata": {},
   "outputs": [
    {
     "name": "stdout",
     "output_type": "stream",
     "text": [
      "[1. 0. 0. 0. 2. 0. 0. 0. 3. 0. 0. 0. 4. 0. 0. 0. 5. 0. 0. 0.]\n"
     ]
    }
   ],
   "source": [
    "# дополнить вектор тремя нулями между каждым элементом\n",
    "x = np.array([1,2,3,4,5])\n",
    "# y = np.zeros(len(a)*4-3)\n",
    "y = np.zeros(20)\n",
    "y[::4]=x\n",
    "print(y) \n",
    "\n"
   ]
  },
  {
   "cell_type": "code",
   "execution_count": 8,
   "id": "e2692a83-9bbd-4e7a-913b-b79bc563ad6a",
   "metadata": {},
   "outputs": [
    {
     "name": "stdout",
     "output_type": "stream",
     "text": [
      "[[1 2 3]\n",
      " [2 3 4]\n",
      " [3 4 5]\n",
      " [4 5 6]\n",
      " [5 6 7]\n",
      " [6 7 8]\n",
      " [7 8 9]]\n",
      "[[1 2 3]\n",
      " [2 3 4]\n",
      " [3 4 5]\n",
      " [4 5 6]\n",
      " [5 6 7]\n",
      " [6 7 8]\n",
      " [7 8 9]]\n"
     ]
    },
    {
     "name": "stderr",
     "output_type": "stream",
     "text": [
      "C:\\Users\\Администратор\\AppData\\Local\\Temp\\ipykernel_3264\\398484308.py:13: FutureWarning: arrays to stack must be passed as a \"sequence\" type such as list or tuple. Support for non-sequence iterables such as generators is deprecated as of NumPy 1.16 and will raise an error in the future.\n",
      "  res = np.vstack(Z[i:i+window_size] for i in range(num_rows))\n"
     ]
    }
   ],
   "source": [
    "# Из одномерного массива получить двумерный со смещением в единицу\n",
    "# варианты решения\n",
    "# решение от Кондратенко Николая\n",
    "# исходный мсассив\n",
    "Z = np.array([1, 2, 3, 4, 5, 6 ,7 , 8, 9])\n",
    "# длина окна - колическиство элементов в каждой строке результата\n",
    "window_size = 3\n",
    "\n",
    "# число строк в результирующем массиве (двумерный массив)\n",
    "num_rows = len(Z) - window_size + 1\n",
    "\n",
    "# создать подмассивы со смещением в 1 и объединить их\n",
    "res = np.vstack(Z[i:i+window_size] for i in range(num_rows))\n",
    "print(res)\n",
    "\n",
    "res = np.vstack(list(Z[i:i+window_size] for i in range(num_rows)))\n",
    "print(res)"
   ]
  },
  {
   "cell_type": "code",
   "execution_count": 10,
   "id": "98359535-4fcd-40ec-a0ba-447f3908256e",
   "metadata": {},
   "outputs": [
    {
     "name": "stdout",
     "output_type": "stream",
     "text": [
      "[1, 2, 3, 4, 5, 6]\n"
     ]
    },
    {
     "data": {
      "text/plain": [
       "array([1, 2, 3, 4, 5, 6])"
      ]
     },
     "execution_count": 10,
     "metadata": {},
     "output_type": "execute_result"
    }
   ],
   "source": [
    "#  Извлечь уникальные значеня из двух двумерных массивов\n",
    "import numpy as np\n",
    "import itertools\n",
    "\n",
    "array1 = np.array([[1, 2], [3, 4]])\n",
    "array2 = np.array([[3, 4], [5, 6]])\n",
    "\n",
    "# Использование chain.from_iterable для выравнивания\n",
    "combined_list = list(itertools.chain.from_iterable(array1)) + \\\n",
    "                list(itertools.chain.from_iterable(array2))\n",
    "\n",
    "unique_values = list(set(combined_list))\n",
    "\n",
    "print(unique_values)\n",
    "# Вывод: [1, 2, 3, 4, 5, 6]\n",
    "# в_2\n",
    "a = np.array([[1, 2], [3, 4]])\n",
    "b = np.array([[3, 4], [5, 6]])\n",
    "np.unique(np.concatenate((np.ravel(a), np.ravel(b))))"
   ]
  }
 ],
 "metadata": {
  "kernelspec": {
   "display_name": "Python 3 (ipykernel)",
   "language": "python",
   "name": "python3"
  },
  "language_info": {
   "codemirror_mode": {
    "name": "ipython",
    "version": 3
   },
   "file_extension": ".py",
   "mimetype": "text/x-python",
   "name": "python",
   "nbconvert_exporter": "python",
   "pygments_lexer": "ipython3",
   "version": "3.8.0"
  }
 },
 "nbformat": 4,
 "nbformat_minor": 5
}
